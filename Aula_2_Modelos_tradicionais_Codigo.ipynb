{
  "nbformat": 4,
  "nbformat_minor": 0,
  "metadata": {
    "colab": {
      "name": "Aula 2 - Modelos tradicionais - Codigo",
      "version": "0.3.2",
      "provenance": [],
      "private_outputs": true,
      "include_colab_link": true
    },
    "kernelspec": {
      "name": "python3",
      "display_name": "Python 3"
    }
  },
  "cells": [
    {
      "cell_type": "markdown",
      "metadata": {
        "id": "view-in-github",
        "colab_type": "text"
      },
      "source": [
        "<a href=\"https://colab.research.google.com/github/JoaoAreias/Curso-ML/blob/master/Aula_2_Modelos_tradicionais_Codigo.ipynb\" target=\"_parent\"><img src=\"https://colab.research.google.com/assets/colab-badge.svg\" alt=\"Open In Colab\"/></a>"
      ]
    },
    {
      "cell_type": "code",
      "metadata": {
        "id": "qWpp6IMT56Pi",
        "colab_type": "code",
        "colab": {}
      },
      "source": [
        "from sklearn.datasets import load_digits\n",
        "import matplotlib.pyplot as plt\n",
        "import numpy as np\n",
        "\n",
        "plt.gray()\n",
        "digits = load_digits()\n",
        "plt.matshow(digits.images[2])\n",
        "plt.show()"
      ],
      "execution_count": 0,
      "outputs": []
    },
    {
      "cell_type": "markdown",
      "metadata": {
        "id": "E4nC6rEPuqcf",
        "colab_type": "text"
      },
      "source": [
        "# Modelos lineares"
      ]
    },
    {
      "cell_type": "code",
      "metadata": {
        "id": "7h9Nqwm_55hp",
        "colab_type": "code",
        "colab": {}
      },
      "source": [
        ""
      ],
      "execution_count": 0,
      "outputs": []
    },
    {
      "cell_type": "markdown",
      "metadata": {
        "id": "tTddaZb3uvAC",
        "colab_type": "text"
      },
      "source": [
        "# Métodos não paramétricos"
      ]
    },
    {
      "cell_type": "markdown",
      "metadata": {
        "id": "h9rA7fwtuyfK",
        "colab_type": "text"
      },
      "source": [
        "# Arvores de decisão"
      ]
    },
    {
      "cell_type": "markdown",
      "metadata": {
        "id": "pc0JJEj1wvYT",
        "colab_type": "text"
      },
      "source": [
        "# Redes neurais"
      ]
    },
    {
      "cell_type": "code",
      "metadata": {
        "id": "fxWJdK5lwtCs",
        "colab_type": "code",
        "colab": {}
      },
      "source": [
        ""
      ],
      "execution_count": 0,
      "outputs": []
    }
  ]
}